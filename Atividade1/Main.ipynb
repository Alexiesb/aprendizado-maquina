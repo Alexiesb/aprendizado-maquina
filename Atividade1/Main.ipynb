{
  "nbformat": 4,
  "nbformat_minor": 0,
  "metadata": {
    "colab": {
      "provenance": []
    },
    "kernelspec": {
      "name": "python3",
      "display_name": "Python 3"
    },
    "language_info": {
      "name": "python"
    }
  },
  "cells": [
    {
      "source": [
        "#Atividade"
      ],
      "cell_type": "markdown",
      "metadata": {
        "id": "g7UWdxvr7uWS"
      }
    },
    {
      "source": [
        "**Reasoning**:\n",
        "Load the \"marketing.csv\" dataset into a Pandas DataFrame.\n",
        "\n"
      ],
      "cell_type": "markdown",
      "metadata": {
        "id": "83cVGM967vcF"
      }
    },
    {
      "source": [
        "import pandas as pd\n",
        "\n",
        "marketing = pd.read_csv('marketing.csv')\n"
      ],
      "cell_type": "code",
      "metadata": {
        "id": "O1BycEJz7vr4"
      },
      "execution_count": null,
      "outputs": []
    },
    {
      "cell_type": "code",
      "source": [
        "print(marketing.head(5))\n",
        "print(marketing.describe(include='all'))\n",
        "print(marketing.info())\n"
      ],
      "metadata": {
        "colab": {
          "base_uri": "https://localhost:8080/"
        },
        "id": "W7X9IpCX8Fjq",
        "outputId": "2012285c-3a0c-49c4-920b-eb54cca91a87"
      },
      "execution_count": null,
      "outputs": [
        {
          "output_type": "stream",
          "name": "stdout",
          "text": [
            "      user_id date_served marketing_channel          variant converted  \\\n",
            "0  a100000029      1/1/18         House Ads  personalization      True   \n",
            "1  a100000030      1/1/18         House Ads  personalization      True   \n",
            "2  a100000031      1/1/18         House Ads  personalization      True   \n",
            "3  a100000032      1/1/18         House Ads  personalization      True   \n",
            "4  a100000033      1/1/18         House Ads  personalization      True   \n",
            "\n",
            "  language_displayed language_preferred    age_group date_subscribed  \\\n",
            "0            English            English   0-18 years          1/1/18   \n",
            "1            English            English  19-24 years          1/1/18   \n",
            "2            English            English  24-30 years          1/1/18   \n",
            "3            English            English  30-36 years          1/1/18   \n",
            "4            English            English  36-45 years          1/1/18   \n",
            "\n",
            "  date_canceled subscribing_channel is_retained  \n",
            "0           NaN           House Ads        True  \n",
            "1           NaN           House Ads        True  \n",
            "2           NaN           House Ads        True  \n",
            "3           NaN           House Ads        True  \n",
            "4           NaN           House Ads        True  \n",
            "           user_id date_served marketing_channel  variant converted  \\\n",
            "count        10037       10021             10022    10037     10022   \n",
            "unique        7309          31                 5        2         2   \n",
            "top     a100000882     1/15/18         House Ads  control     False   \n",
            "freq            12         789              4733     5091      8946   \n",
            "\n",
            "       language_displayed language_preferred    age_group date_subscribed  \\\n",
            "count               10037              10037        10037            1856   \n",
            "unique                  4                  4            7              31   \n",
            "top               English            English  19-24 years         1/16/18   \n",
            "freq                 9793               9275         1682             163   \n",
            "\n",
            "       date_canceled subscribing_channel is_retained  \n",
            "count            577                1856        1856  \n",
            "unique           115                   5           2  \n",
            "top           4/2/18           Instagram        True  \n",
            "freq              15                 600        1279  \n",
            "<class 'pandas.core.frame.DataFrame'>\n",
            "RangeIndex: 10037 entries, 0 to 10036\n",
            "Data columns (total 12 columns):\n",
            " #   Column               Non-Null Count  Dtype \n",
            "---  ------               --------------  ----- \n",
            " 0   user_id              10037 non-null  object\n",
            " 1   date_served          10021 non-null  object\n",
            " 2   marketing_channel    10022 non-null  object\n",
            " 3   variant              10037 non-null  object\n",
            " 4   converted            10022 non-null  object\n",
            " 5   language_displayed   10037 non-null  object\n",
            " 6   language_preferred   10037 non-null  object\n",
            " 7   age_group            10037 non-null  object\n",
            " 8   date_subscribed      1856 non-null   object\n",
            " 9   date_canceled        577 non-null    object\n",
            " 10  subscribing_channel  1856 non-null   object\n",
            " 11  is_retained          1856 non-null   object\n",
            "dtypes: object(12)\n",
            "memory usage: 941.1+ KB\n",
            "None\n"
          ]
        }
      ]
    },
    {
      "cell_type": "code",
      "source": [
        "print(marketing['is_retained'].dtype)\n",
        "\n",
        "marketing['is_retained'] = marketing['is_retained'].astype('bool')\n",
        "\n",
        "print(marketing['is_retained'].dtype)"
      ],
      "metadata": {
        "colab": {
          "base_uri": "https://localhost:8080/"
        },
        "id": "McdL22qB9OWM",
        "outputId": "6995baa2-7e81-4f41-d4f7-3663095711b8"
      },
      "execution_count": null,
      "outputs": [
        {
          "output_type": "stream",
          "name": "stdout",
          "text": [
            "object\n",
            "bool\n"
          ]
        }
      ]
    },
    {
      "cell_type": "code",
      "source": [
        "channel_dict = {\"House Ads\": 1, \"Instagram\": 2,\n",
        "                \"Facebook\": 3, \"Email\": 4, \"Push\": 5}\n",
        "\n",
        "marketing['channel_code'] = marketing['subscribing_channel'].map(channel_dict)"
      ],
      "metadata": {
        "id": "5Zdpj3M99RhV"
      },
      "execution_count": null,
      "outputs": []
    },
    {
      "cell_type": "code",
      "source": [
        "import numpy as np\n",
        "\n",
        "marketing['is_correct_lang'] = np.where(marketing['language_preferred'] == marketing['language_displayed'], 'Yes', 'No')"
      ],
      "metadata": {
        "id": "Gw9Y5Eds9pJp"
      },
      "execution_count": null,
      "outputs": []
    },
    {
      "cell_type": "code",
      "source": [
        "marketing = pd.read_csv('marketing.csv', parse_dates=['date_served', 'date_subscribed', 'date_canceled'])\n",
        "\n",
        "# Add a DoW column\n",
        "marketing['DoW'] = marketing['date_subscribed'].dt.dayofweek"
      ],
      "metadata": {
        "colab": {
          "base_uri": "https://localhost:8080/"
        },
        "id": "OfhpcZwG94_b",
        "outputId": "1e8e31be-a518-411f-9b24-67c991612c42"
      },
      "execution_count": null,
      "outputs": [
        {
          "output_type": "stream",
          "name": "stderr",
          "text": [
            "<ipython-input-21-f5e3e22d6d44>:1: UserWarning: Could not infer format, so each element will be parsed individually, falling back to `dateutil`. To ensure parsing is consistent and as-expected, please specify a format.\n",
            "  marketing = pd.read_csv('marketing.csv', parse_dates=['date_served', 'date_subscribed', 'date_canceled'])\n",
            "<ipython-input-21-f5e3e22d6d44>:1: UserWarning: Could not infer format, so each element will be parsed individually, falling back to `dateutil`. To ensure parsing is consistent and as-expected, please specify a format.\n",
            "  marketing = pd.read_csv('marketing.csv', parse_dates=['date_served', 'date_subscribed', 'date_canceled'])\n",
            "<ipython-input-21-f5e3e22d6d44>:1: UserWarning: Could not infer format, so each element will be parsed individually, falling back to `dateutil`. To ensure parsing is consistent and as-expected, please specify a format.\n",
            "  marketing = pd.read_csv('marketing.csv', parse_dates=['date_served', 'date_subscribed', 'date_canceled'])\n"
          ]
        }
      ]
    },
    {
      "cell_type": "code",
      "source": [
        "daily_users = marketing.groupby(['date_served'])['user_id'].nunique()\n",
        "\n",
        "print(daily_users.head())"
      ],
      "metadata": {
        "colab": {
          "base_uri": "https://localhost:8080/"
        },
        "id": "h8w1FD5x-E_L",
        "outputId": "e839c2f0-9d87-49d1-fdc2-061f960e2396"
      },
      "execution_count": null,
      "outputs": [
        {
          "output_type": "stream",
          "name": "stdout",
          "text": [
            "date_served\n",
            "2018-01-01    362\n",
            "2018-01-02    374\n",
            "2018-01-03    348\n",
            "2018-01-04    323\n",
            "2018-01-05    319\n",
            "Name: user_id, dtype: int64\n"
          ]
        }
      ]
    },
    {
      "cell_type": "code",
      "source": [
        "import matplotlib.pyplot as plt\n",
        "\n",
        "daily_users.plot()\n",
        "\n",
        "plt.title('Usuários diários')\n",
        "plt.ylabel('Número de usuários')\n",
        "\n",
        "plt.xticks(rotation=45)\n",
        "\n",
        "plt.show()"
      ],
      "metadata": {
        "colab": {
          "base_uri": "https://localhost:8080/",
          "height": 527
        },
        "id": "THIWJCI5-SVD",
        "outputId": "aac41d7a-4357-4bd6-c652-5e48083f2f08"
      },
      "execution_count": null,
      "outputs": [
        {
          "output_type": "display_data",
          "data": {
            "text/plain": [
              "<Figure size 640x480 with 1 Axes>"
            ],
            "image/png": "[encoded data removed]"
          },
          "metadata": {}
        }
      ]
    }
  ]
}